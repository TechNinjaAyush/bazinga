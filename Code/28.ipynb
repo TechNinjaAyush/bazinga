{
 "cells": [
  {
   "cell_type": "markdown",
   "id": "7702ff15-1ac3-4797-881c-0831b2d8b5c3",
   "metadata": {},
   "source": [
    "Create a review scrapper for Flipkart website to fetch real time comments,  \n",
    "reviews, ratings, comment tags, customer name using Python."
   ]
  },
  {
   "cell_type": "code",
   "execution_count": 3,
   "id": "01a40b2c-1e80-4354-adf4-8afe47d2355f",
   "metadata": {},
   "outputs": [],
   "source": [
    "import requests\n",
    "from bs4 import BeautifulSoup\n",
    "import json\n",
    "\n",
    "def fetch_reviews(product_url):\n",
    "    headers = {\n",
    "        'User-Agent': 'Mozilla/5.0 (Windows NT 10.0; Win64; x64) AppleWebKit/537.36 (KHTML, like Gecko) Chrome/91.0.4472.124 Safari/537.36'\n",
    "    }\n",
    "    response = requests.get(product_url, headers=headers)\n",
    "    \n",
    "    print(f\"Status Code: {response.status_code}\")\n",
    "    \n",
    "    if response.status_code == 200:\n",
    "        soup = BeautifulSoup(response.text, 'html.parser')\n",
    "        script_tag = soup.find('script', {'type': 'application/ld+json'})\n",
    "        if script_tag:\n",
    "            json_data = json.loads(script_tag.string)\n",
    "            reviews = json_data['review']\n",
    "            review_details = []\n",
    "            for review in reviews:\n",
    "                review_info = {\n",
    "                    'customer_name': review.get('author', {}).get('name', 'N/A'),\n",
    "                    'rating': review.get('reviewRating', {}).get('ratingValue', 'N/A'),\n",
    "                    'comment': review.get('reviewBody', 'No Comment'),\n",
    "                    'date': review.get('datePublished', 'N/A'),\n",
    "                    'tags': review.get('tags', 'N/A')\n",
    "                }\n",
    "                review_details.append(review_info)\n",
    "            return review_details\n",
    "        else:\n",
    "            print(\"No review data found.\")\n",
    "            return []\n",
    "    else:\n",
    "        print(\"Failed to fetch the product page.\")\n",
    "        return []\n",
    "\n",
    "\n"
   ]
  },
  {
   "cell_type": "code",
   "execution_count": null,
   "id": "f83f7966-8053-4192-9478-22fba9548a3e",
   "metadata": {},
   "outputs": [],
   "source": []
  }
 ],
 "metadata": {
  "kernelspec": {
   "display_name": "Python 3 (ipykernel)",
   "language": "python",
   "name": "python3"
  },
  "language_info": {
   "codemirror_mode": {
    "name": "ipython",
    "version": 3
   },
   "file_extension": ".py",
   "mimetype": "text/x-python",
   "name": "python",
   "nbconvert_exporter": "python",
   "pygments_lexer": "ipython3",
   "version": "3.12.4"
  }
 },
 "nbformat": 4,
 "nbformat_minor": 5
}
